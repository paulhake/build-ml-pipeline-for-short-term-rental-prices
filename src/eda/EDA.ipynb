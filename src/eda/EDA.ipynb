{
 "cells": [
  {
   "cell_type": "markdown",
   "id": "4a611730",
   "metadata": {},
   "source": [
    "# Data Exploration"
   ]
  },
  {
   "cell_type": "markdown",
   "id": "0d1d05a1",
   "metadata": {},
   "source": [
    "## Load Data"
   ]
  },
  {
   "cell_type": "code",
   "execution_count": 1,
   "id": "c959bec5",
   "metadata": {},
   "outputs": [
    {
     "name": "stderr",
     "output_type": "stream",
     "text": [
      "Failed to detect the name of this notebook, you can set it manually with the WANDB_NOTEBOOK_NAME environment variable to enable code saving.\n",
      "\u001b[34m\u001b[1mwandb\u001b[0m: Currently logged in as: \u001b[33mpaulhake\u001b[0m. Use \u001b[1m`wandb login --relogin`\u001b[0m to force relogin\n"
     ]
    },
    {
     "data": {
      "text/html": [
       "wandb version 0.14.0 is available!  To upgrade, please run:\n",
       " $ pip install wandb --upgrade"
      ],
      "text/plain": [
       "<IPython.core.display.HTML object>"
      ]
     },
     "metadata": {},
     "output_type": "display_data"
    },
    {
     "data": {
      "text/html": [
       "Tracking run with wandb version 0.13.9"
      ],
      "text/plain": [
       "<IPython.core.display.HTML object>"
      ]
     },
     "metadata": {},
     "output_type": "display_data"
    },
    {
     "data": {
      "text/html": [
       "Run data is saved locally in <code>/Users/paulhake/Documents/umlops/build-ml-pipeline-for-short-term-rental-prices/src/eda/wandb/run-20230321_213254-nwbrkmdd</code>"
      ],
      "text/plain": [
       "<IPython.core.display.HTML object>"
      ]
     },
     "metadata": {},
     "output_type": "display_data"
    },
    {
     "data": {
      "text/html": [
       "Syncing run <strong><a href=\"https://wandb.ai/paulhake/nyc_airbnb2/runs/nwbrkmdd\" target=\"_blank\">autumn-wood-2</a></strong> to <a href=\"https://wandb.ai/paulhake/nyc_airbnb2\" target=\"_blank\">Weights & Biases</a> (<a href=\"https://wandb.me/run\" target=\"_blank\">docs</a>)<br/>"
      ],
      "text/plain": [
       "<IPython.core.display.HTML object>"
      ]
     },
     "metadata": {},
     "output_type": "display_data"
    },
    {
     "data": {
      "text/html": [
       " View project at <a href=\"https://wandb.ai/paulhake/nyc_airbnb2\" target=\"_blank\">https://wandb.ai/paulhake/nyc_airbnb2</a>"
      ],
      "text/plain": [
       "<IPython.core.display.HTML object>"
      ]
     },
     "metadata": {},
     "output_type": "display_data"
    },
    {
     "data": {
      "text/html": [
       " View run at <a href=\"https://wandb.ai/paulhake/nyc_airbnb2/runs/nwbrkmdd\" target=\"_blank\">https://wandb.ai/paulhake/nyc_airbnb2/runs/nwbrkmdd</a>"
      ],
      "text/plain": [
       "<IPython.core.display.HTML object>"
      ]
     },
     "metadata": {},
     "output_type": "display_data"
    }
   ],
   "source": [
    "import wandb\n",
    "import pandas as pd\n",
    "\n",
    "run = wandb.init(project=\"nyc_airbnb2\", group=\"eda\", save_code=True)\n",
    "local_path = wandb.use_artifact(\"sample.csv:latest\").file()\n",
    "df = pd.read_csv(local_path)"
   ]
  },
  {
   "cell_type": "markdown",
   "id": "04c72ca6",
   "metadata": {},
   "source": [
    "## Explore data using pandas profiling"
   ]
  },
  {
   "cell_type": "code",
   "execution_count": 2,
   "id": "3a33fefa",
   "metadata": {},
   "outputs": [
    {
     "name": "stdout",
     "output_type": "stream",
     "text": [
      "Requirement already satisfied: pandas_profiling in /Users/paulhake/opt/anaconda3/envs/mlflow-a9f67ca97f2d52d69a021fa2e278ffc7eb372926/lib/python3.10/site-packages (3.6.6)\n",
      "Requirement already satisfied: ydata-profiling in /Users/paulhake/opt/anaconda3/envs/mlflow-a9f67ca97f2d52d69a021fa2e278ffc7eb372926/lib/python3.10/site-packages (from pandas_profiling) (4.1.1)\n",
      "Requirement already satisfied: imagehash==4.3.1 in /Users/paulhake/opt/anaconda3/envs/mlflow-a9f67ca97f2d52d69a021fa2e278ffc7eb372926/lib/python3.10/site-packages (from ydata-profiling->pandas_profiling) (4.3.1)\n",
      "Requirement already satisfied: statsmodels<0.14,>=0.13.2 in /Users/paulhake/opt/anaconda3/envs/mlflow-a9f67ca97f2d52d69a021fa2e278ffc7eb372926/lib/python3.10/site-packages (from ydata-profiling->pandas_profiling) (0.13.5)\n",
      "Requirement already satisfied: scipy<1.10,>=1.4.1 in /Users/paulhake/opt/anaconda3/envs/mlflow-a9f67ca97f2d52d69a021fa2e278ffc7eb372926/lib/python3.10/site-packages (from ydata-profiling->pandas_profiling) (1.9.3)\n",
      "Requirement already satisfied: tqdm<4.65,>=4.48.2 in /Users/paulhake/opt/anaconda3/envs/mlflow-a9f67ca97f2d52d69a021fa2e278ffc7eb372926/lib/python3.10/site-packages (from ydata-profiling->pandas_profiling) (4.64.1)\n",
      "Requirement already satisfied: numpy<1.24,>=1.16.0 in /Users/paulhake/opt/anaconda3/envs/mlflow-a9f67ca97f2d52d69a021fa2e278ffc7eb372926/lib/python3.10/site-packages (from ydata-profiling->pandas_profiling) (1.23.5)\n",
      "Requirement already satisfied: PyYAML<6.1,>=5.0.0 in /Users/paulhake/opt/anaconda3/envs/mlflow-a9f67ca97f2d52d69a021fa2e278ffc7eb372926/lib/python3.10/site-packages (from ydata-profiling->pandas_profiling) (6.0)\n",
      "Requirement already satisfied: jinja2<3.2,>=2.11.1 in /Users/paulhake/opt/anaconda3/envs/mlflow-a9f67ca97f2d52d69a021fa2e278ffc7eb372926/lib/python3.10/site-packages (from ydata-profiling->pandas_profiling) (3.1.2)\n",
      "Requirement already satisfied: visions[type_image_path]==0.7.5 in /Users/paulhake/opt/anaconda3/envs/mlflow-a9f67ca97f2d52d69a021fa2e278ffc7eb372926/lib/python3.10/site-packages (from ydata-profiling->pandas_profiling) (0.7.5)\n",
      "Requirement already satisfied: htmlmin==0.1.12 in /Users/paulhake/opt/anaconda3/envs/mlflow-a9f67ca97f2d52d69a021fa2e278ffc7eb372926/lib/python3.10/site-packages (from ydata-profiling->pandas_profiling) (0.1.12)\n",
      "Requirement already satisfied: multimethod<1.10,>=1.4 in /Users/paulhake/opt/anaconda3/envs/mlflow-a9f67ca97f2d52d69a021fa2e278ffc7eb372926/lib/python3.10/site-packages (from ydata-profiling->pandas_profiling) (1.9.1)\n",
      "Requirement already satisfied: typeguard<2.14,>=2.13.2 in /Users/paulhake/opt/anaconda3/envs/mlflow-a9f67ca97f2d52d69a021fa2e278ffc7eb372926/lib/python3.10/site-packages (from ydata-profiling->pandas_profiling) (2.13.3)\n",
      "Requirement already satisfied: phik<0.13,>=0.11.1 in /Users/paulhake/opt/anaconda3/envs/mlflow-a9f67ca97f2d52d69a021fa2e278ffc7eb372926/lib/python3.10/site-packages (from ydata-profiling->pandas_profiling) (0.12.3)\n",
      "Requirement already satisfied: pandas!=1.4.0,<1.6,>1.1 in /Users/paulhake/opt/anaconda3/envs/mlflow-a9f67ca97f2d52d69a021fa2e278ffc7eb372926/lib/python3.10/site-packages (from ydata-profiling->pandas_profiling) (1.5.3)\n",
      "Requirement already satisfied: requests<2.29,>=2.24.0 in /Users/paulhake/opt/anaconda3/envs/mlflow-a9f67ca97f2d52d69a021fa2e278ffc7eb372926/lib/python3.10/site-packages (from ydata-profiling->pandas_profiling) (2.26.0)\n",
      "Requirement already satisfied: matplotlib<3.7,>=3.2 in /Users/paulhake/opt/anaconda3/envs/mlflow-a9f67ca97f2d52d69a021fa2e278ffc7eb372926/lib/python3.10/site-packages (from ydata-profiling->pandas_profiling) (3.6.3)\n",
      "Requirement already satisfied: seaborn<0.13,>=0.10.1 in /Users/paulhake/opt/anaconda3/envs/mlflow-a9f67ca97f2d52d69a021fa2e278ffc7eb372926/lib/python3.10/site-packages (from ydata-profiling->pandas_profiling) (0.12.2)\n",
      "Requirement already satisfied: pydantic<1.11,>=1.8.1 in /Users/paulhake/opt/anaconda3/envs/mlflow-a9f67ca97f2d52d69a021fa2e278ffc7eb372926/lib/python3.10/site-packages (from ydata-profiling->pandas_profiling) (1.10.6)\n",
      "Requirement already satisfied: PyWavelets in /Users/paulhake/opt/anaconda3/envs/mlflow-a9f67ca97f2d52d69a021fa2e278ffc7eb372926/lib/python3.10/site-packages (from imagehash==4.3.1->ydata-profiling->pandas_profiling) (1.4.1)\n",
      "Requirement already satisfied: pillow in /Users/paulhake/opt/anaconda3/envs/mlflow-a9f67ca97f2d52d69a021fa2e278ffc7eb372926/lib/python3.10/site-packages (from imagehash==4.3.1->ydata-profiling->pandas_profiling) (9.4.0)\n",
      "Requirement already satisfied: tangled-up-in-unicode>=0.0.4 in /Users/paulhake/opt/anaconda3/envs/mlflow-a9f67ca97f2d52d69a021fa2e278ffc7eb372926/lib/python3.10/site-packages (from visions[type_image_path]==0.7.5->ydata-profiling->pandas_profiling) (0.2.0)\n",
      "Requirement already satisfied: attrs>=19.3.0 in /Users/paulhake/opt/anaconda3/envs/mlflow-a9f67ca97f2d52d69a021fa2e278ffc7eb372926/lib/python3.10/site-packages (from visions[type_image_path]==0.7.5->ydata-profiling->pandas_profiling) (22.2.0)\n",
      "Requirement already satisfied: networkx>=2.4 in /Users/paulhake/opt/anaconda3/envs/mlflow-a9f67ca97f2d52d69a021fa2e278ffc7eb372926/lib/python3.10/site-packages (from visions[type_image_path]==0.7.5->ydata-profiling->pandas_profiling) (3.0)\n",
      "Requirement already satisfied: MarkupSafe>=2.0 in /Users/paulhake/opt/anaconda3/envs/mlflow-a9f67ca97f2d52d69a021fa2e278ffc7eb372926/lib/python3.10/site-packages (from jinja2<3.2,>=2.11.1->ydata-profiling->pandas_profiling) (2.1.2)\n",
      "Requirement already satisfied: cycler>=0.10 in /Users/paulhake/opt/anaconda3/envs/mlflow-a9f67ca97f2d52d69a021fa2e278ffc7eb372926/lib/python3.10/site-packages (from matplotlib<3.7,>=3.2->ydata-profiling->pandas_profiling) (0.11.0)\n",
      "Requirement already satisfied: kiwisolver>=1.0.1 in /Users/paulhake/opt/anaconda3/envs/mlflow-a9f67ca97f2d52d69a021fa2e278ffc7eb372926/lib/python3.10/site-packages (from matplotlib<3.7,>=3.2->ydata-profiling->pandas_profiling) (1.4.4)\n",
      "Requirement already satisfied: contourpy>=1.0.1 in /Users/paulhake/opt/anaconda3/envs/mlflow-a9f67ca97f2d52d69a021fa2e278ffc7eb372926/lib/python3.10/site-packages (from matplotlib<3.7,>=3.2->ydata-profiling->pandas_profiling) (1.0.7)\n",
      "Requirement already satisfied: fonttools>=4.22.0 in /Users/paulhake/opt/anaconda3/envs/mlflow-a9f67ca97f2d52d69a021fa2e278ffc7eb372926/lib/python3.10/site-packages (from matplotlib<3.7,>=3.2->ydata-profiling->pandas_profiling) (4.39.2)\n",
      "Requirement already satisfied: packaging>=20.0 in /Users/paulhake/opt/anaconda3/envs/mlflow-a9f67ca97f2d52d69a021fa2e278ffc7eb372926/lib/python3.10/site-packages (from matplotlib<3.7,>=3.2->ydata-profiling->pandas_profiling) (23.0)\n",
      "Requirement already satisfied: python-dateutil>=2.7 in /Users/paulhake/opt/anaconda3/envs/mlflow-a9f67ca97f2d52d69a021fa2e278ffc7eb372926/lib/python3.10/site-packages (from matplotlib<3.7,>=3.2->ydata-profiling->pandas_profiling) (2.8.2)\n",
      "Requirement already satisfied: pyparsing>=2.2.1 in /Users/paulhake/opt/anaconda3/envs/mlflow-a9f67ca97f2d52d69a021fa2e278ffc7eb372926/lib/python3.10/site-packages (from matplotlib<3.7,>=3.2->ydata-profiling->pandas_profiling) (3.0.9)\n",
      "Requirement already satisfied: pytz>=2020.1 in /Users/paulhake/opt/anaconda3/envs/mlflow-a9f67ca97f2d52d69a021fa2e278ffc7eb372926/lib/python3.10/site-packages (from pandas!=1.4.0,<1.6,>1.1->ydata-profiling->pandas_profiling) (2022.7.1)\n",
      "Requirement already satisfied: joblib>=0.14.1 in /Users/paulhake/opt/anaconda3/envs/mlflow-a9f67ca97f2d52d69a021fa2e278ffc7eb372926/lib/python3.10/site-packages (from phik<0.13,>=0.11.1->ydata-profiling->pandas_profiling) (1.2.0)\n",
      "Requirement already satisfied: typing-extensions>=4.2.0 in /Users/paulhake/opt/anaconda3/envs/mlflow-a9f67ca97f2d52d69a021fa2e278ffc7eb372926/lib/python3.10/site-packages (from pydantic<1.11,>=1.8.1->ydata-profiling->pandas_profiling) (4.5.0)\n",
      "Requirement already satisfied: idna<4,>=2.5 in /Users/paulhake/opt/anaconda3/envs/mlflow-a9f67ca97f2d52d69a021fa2e278ffc7eb372926/lib/python3.10/site-packages (from requests<2.29,>=2.24.0->ydata-profiling->pandas_profiling) (3.4)\n",
      "Requirement already satisfied: urllib3<1.27,>=1.21.1 in /Users/paulhake/opt/anaconda3/envs/mlflow-a9f67ca97f2d52d69a021fa2e278ffc7eb372926/lib/python3.10/site-packages (from requests<2.29,>=2.24.0->ydata-profiling->pandas_profiling) (1.26.15)\n",
      "Requirement already satisfied: charset-normalizer~=2.0.0 in /Users/paulhake/opt/anaconda3/envs/mlflow-a9f67ca97f2d52d69a021fa2e278ffc7eb372926/lib/python3.10/site-packages (from requests<2.29,>=2.24.0->ydata-profiling->pandas_profiling) (2.0.12)\n",
      "Requirement already satisfied: certifi>=2017.4.17 in /Users/paulhake/opt/anaconda3/envs/mlflow-a9f67ca97f2d52d69a021fa2e278ffc7eb372926/lib/python3.10/site-packages (from requests<2.29,>=2.24.0->ydata-profiling->pandas_profiling) (2022.12.7)\n",
      "Requirement already satisfied: patsy>=0.5.2 in /Users/paulhake/opt/anaconda3/envs/mlflow-a9f67ca97f2d52d69a021fa2e278ffc7eb372926/lib/python3.10/site-packages (from statsmodels<0.14,>=0.13.2->ydata-profiling->pandas_profiling) (0.5.3)\n",
      "Requirement already satisfied: six in /Users/paulhake/opt/anaconda3/envs/mlflow-a9f67ca97f2d52d69a021fa2e278ffc7eb372926/lib/python3.10/site-packages (from patsy>=0.5.2->statsmodels<0.14,>=0.13.2->ydata-profiling->pandas_profiling) (1.16.0)\n"
     ]
    }
   ],
   "source": [
    "!pip install pandas_profiling"
   ]
  },
  {
   "cell_type": "code",
   "execution_count": 3,
   "id": "db0e9229",
   "metadata": {},
   "outputs": [
    {
     "name": "stdout",
     "output_type": "stream",
     "text": [
      "Requirement already satisfied: ipywidgets in /Users/paulhake/opt/anaconda3/envs/mlflow-a9f67ca97f2d52d69a021fa2e278ffc7eb372926/lib/python3.10/site-packages (8.0.5)\n",
      "Requirement already satisfied: jupyterlab-widgets~=3.0 in /Users/paulhake/opt/anaconda3/envs/mlflow-a9f67ca97f2d52d69a021fa2e278ffc7eb372926/lib/python3.10/site-packages (from ipywidgets) (3.0.6)\n",
      "Requirement already satisfied: widgetsnbextension~=4.0 in /Users/paulhake/opt/anaconda3/envs/mlflow-a9f67ca97f2d52d69a021fa2e278ffc7eb372926/lib/python3.10/site-packages (from ipywidgets) (4.0.6)\n",
      "Requirement already satisfied: ipython>=6.1.0 in /Users/paulhake/opt/anaconda3/envs/mlflow-a9f67ca97f2d52d69a021fa2e278ffc7eb372926/lib/python3.10/site-packages (from ipywidgets) (8.11.0)\n",
      "Requirement already satisfied: traitlets>=4.3.1 in /Users/paulhake/opt/anaconda3/envs/mlflow-a9f67ca97f2d52d69a021fa2e278ffc7eb372926/lib/python3.10/site-packages (from ipywidgets) (5.9.0)\n",
      "Requirement already satisfied: jedi>=0.16 in /Users/paulhake/opt/anaconda3/envs/mlflow-a9f67ca97f2d52d69a021fa2e278ffc7eb372926/lib/python3.10/site-packages (from ipython>=6.1.0->ipywidgets) (0.18.2)\n",
      "Requirement already satisfied: matplotlib-inline in /Users/paulhake/opt/anaconda3/envs/mlflow-a9f67ca97f2d52d69a021fa2e278ffc7eb372926/lib/python3.10/site-packages (from ipython>=6.1.0->ipywidgets) (0.1.6)\n",
      "Requirement already satisfied: backcall in /Users/paulhake/opt/anaconda3/envs/mlflow-a9f67ca97f2d52d69a021fa2e278ffc7eb372926/lib/python3.10/site-packages (from ipython>=6.1.0->ipywidgets) (0.2.0)\n",
      "Requirement already satisfied: pygments>=2.4.0 in /Users/paulhake/opt/anaconda3/envs/mlflow-a9f67ca97f2d52d69a021fa2e278ffc7eb372926/lib/python3.10/site-packages (from ipython>=6.1.0->ipywidgets) (2.14.0)\n",
      "Requirement already satisfied: decorator in /Users/paulhake/opt/anaconda3/envs/mlflow-a9f67ca97f2d52d69a021fa2e278ffc7eb372926/lib/python3.10/site-packages (from ipython>=6.1.0->ipywidgets) (5.1.1)\n",
      "Requirement already satisfied: pickleshare in /Users/paulhake/opt/anaconda3/envs/mlflow-a9f67ca97f2d52d69a021fa2e278ffc7eb372926/lib/python3.10/site-packages (from ipython>=6.1.0->ipywidgets) (0.7.5)\n",
      "Requirement already satisfied: stack-data in /Users/paulhake/opt/anaconda3/envs/mlflow-a9f67ca97f2d52d69a021fa2e278ffc7eb372926/lib/python3.10/site-packages (from ipython>=6.1.0->ipywidgets) (0.6.2)\n",
      "Requirement already satisfied: appnope in /Users/paulhake/opt/anaconda3/envs/mlflow-a9f67ca97f2d52d69a021fa2e278ffc7eb372926/lib/python3.10/site-packages (from ipython>=6.1.0->ipywidgets) (0.1.3)\n",
      "Requirement already satisfied: prompt-toolkit!=3.0.37,<3.1.0,>=3.0.30 in /Users/paulhake/opt/anaconda3/envs/mlflow-a9f67ca97f2d52d69a021fa2e278ffc7eb372926/lib/python3.10/site-packages (from ipython>=6.1.0->ipywidgets) (3.0.38)\n",
      "Requirement already satisfied: pexpect>4.3 in /Users/paulhake/opt/anaconda3/envs/mlflow-a9f67ca97f2d52d69a021fa2e278ffc7eb372926/lib/python3.10/site-packages (from ipython>=6.1.0->ipywidgets) (4.8.0)\n",
      "Requirement already satisfied: parso<0.9.0,>=0.8.0 in /Users/paulhake/opt/anaconda3/envs/mlflow-a9f67ca97f2d52d69a021fa2e278ffc7eb372926/lib/python3.10/site-packages (from jedi>=0.16->ipython>=6.1.0->ipywidgets) (0.8.3)\n",
      "Requirement already satisfied: ptyprocess>=0.5 in /Users/paulhake/opt/anaconda3/envs/mlflow-a9f67ca97f2d52d69a021fa2e278ffc7eb372926/lib/python3.10/site-packages (from pexpect>4.3->ipython>=6.1.0->ipywidgets) (0.7.0)\n",
      "Requirement already satisfied: wcwidth in /Users/paulhake/opt/anaconda3/envs/mlflow-a9f67ca97f2d52d69a021fa2e278ffc7eb372926/lib/python3.10/site-packages (from prompt-toolkit!=3.0.37,<3.1.0,>=3.0.30->ipython>=6.1.0->ipywidgets) (0.2.6)\n",
      "Requirement already satisfied: pure-eval in /Users/paulhake/opt/anaconda3/envs/mlflow-a9f67ca97f2d52d69a021fa2e278ffc7eb372926/lib/python3.10/site-packages (from stack-data->ipython>=6.1.0->ipywidgets) (0.2.2)\n",
      "Requirement already satisfied: asttokens>=2.1.0 in /Users/paulhake/opt/anaconda3/envs/mlflow-a9f67ca97f2d52d69a021fa2e278ffc7eb372926/lib/python3.10/site-packages (from stack-data->ipython>=6.1.0->ipywidgets) (2.2.1)\n",
      "Requirement already satisfied: executing>=1.2.0 in /Users/paulhake/opt/anaconda3/envs/mlflow-a9f67ca97f2d52d69a021fa2e278ffc7eb372926/lib/python3.10/site-packages (from stack-data->ipython>=6.1.0->ipywidgets) (1.2.0)\n",
      "Requirement already satisfied: six in /Users/paulhake/opt/anaconda3/envs/mlflow-a9f67ca97f2d52d69a021fa2e278ffc7eb372926/lib/python3.10/site-packages (from asttokens>=2.1.0->stack-data->ipython>=6.1.0->ipywidgets) (1.16.0)\n"
     ]
    }
   ],
   "source": [
    "!pip install ipywidgets"
   ]
  },
  {
   "cell_type": "code",
   "execution_count": 2,
   "id": "333da1d6",
   "metadata": {},
   "outputs": [
    {
     "name": "stdout",
     "output_type": "stream",
     "text": [
      "Collecting nbformat\n",
      "  Downloading nbformat-5.8.0-py3-none-any.whl (77 kB)\n",
      "\u001b[2K     \u001b[90m━━━━━━━━━━━━━━━━━━━━━━━━━━━━━━━━━━━━━━━━\u001b[0m \u001b[32m77.4/77.4 kB\u001b[0m \u001b[31m1.3 MB/s\u001b[0m eta \u001b[36m0:00:00\u001b[0ma \u001b[36m0:00:01\u001b[0m\n",
      "\u001b[?25hCollecting fastjsonschema\n",
      "  Downloading fastjsonschema-2.16.3-py3-none-any.whl (23 kB)\n",
      "Requirement already satisfied: jupyter-core in /Users/paulhake/opt/anaconda3/envs/mlflow-a9f67ca97f2d52d69a021fa2e278ffc7eb372926/lib/python3.10/site-packages (from nbformat) (5.3.0)\n",
      "Collecting jsonschema>=2.6\n",
      "  Downloading jsonschema-4.17.3-py3-none-any.whl (90 kB)\n",
      "\u001b[2K     \u001b[90m━━━━━━━━━━━━━━━━━━━━━━━━━━━━━━━━━━━━━━━━\u001b[0m \u001b[32m90.4/90.4 kB\u001b[0m \u001b[31m2.8 MB/s\u001b[0m eta \u001b[36m0:00:00\u001b[0m\n",
      "\u001b[?25hRequirement already satisfied: traitlets>=5.1 in /Users/paulhake/opt/anaconda3/envs/mlflow-a9f67ca97f2d52d69a021fa2e278ffc7eb372926/lib/python3.10/site-packages (from nbformat) (5.9.0)\n",
      "Requirement already satisfied: attrs>=17.4.0 in /Users/paulhake/opt/anaconda3/envs/mlflow-a9f67ca97f2d52d69a021fa2e278ffc7eb372926/lib/python3.10/site-packages (from jsonschema>=2.6->nbformat) (22.2.0)\n",
      "Collecting pyrsistent!=0.17.0,!=0.17.1,!=0.17.2,>=0.14.0\n",
      "  Downloading pyrsistent-0.19.3-cp310-cp310-macosx_10_9_universal2.whl (82 kB)\n",
      "\u001b[2K     \u001b[90m━━━━━━━━━━━━━━━━━━━━━━━━━━━━━━━━━━━━━━━━\u001b[0m \u001b[32m82.5/82.5 kB\u001b[0m \u001b[31m2.4 MB/s\u001b[0m eta \u001b[36m0:00:00\u001b[0m\n",
      "\u001b[?25hRequirement already satisfied: platformdirs>=2.5 in /Users/paulhake/opt/anaconda3/envs/mlflow-a9f67ca97f2d52d69a021fa2e278ffc7eb372926/lib/python3.10/site-packages (from jupyter-core->nbformat) (3.1.1)\n",
      "Installing collected packages: fastjsonschema, pyrsistent, jsonschema, nbformat\n",
      "Successfully installed fastjsonschema-2.16.3 jsonschema-4.17.3 nbformat-5.8.0 pyrsistent-0.19.3\n",
      "Note: you may need to restart the kernel to use updated packages.\n"
     ]
    }
   ],
   "source": [
    "pip install nbformat"
   ]
  },
  {
   "cell_type": "code",
   "execution_count": 3,
   "id": "34c2869c",
   "metadata": {},
   "outputs": [
    {
     "name": "stderr",
     "output_type": "stream",
     "text": [
      "/var/folders/1k/qhhfnfrs2632tlslj6sb7sqh0000gn/T/ipykernel_4600/2516835558.py:1: DeprecationWarning: `import pandas_profiling` is going to be deprecated by April 1st. Please use `import ydata_profiling` instead.\n",
      "  import pandas_profiling\n"
     ]
    },
    {
     "data": {
      "application/vnd.jupyter.widget-view+json": {
       "model_id": "27c65cdd09294721b7527ea0007733e2",
       "version_major": 2,
       "version_minor": 0
      },
      "text/plain": [
       "Summarize dataset:   0%|          | 0/5 [00:00<?, ?it/s]"
      ]
     },
     "metadata": {},
     "output_type": "display_data"
    },
    {
     "data": {
      "application/vnd.jupyter.widget-view+json": {
       "model_id": "bf321858b54345aeab1ae65e95e1a9f6",
       "version_major": 2,
       "version_minor": 0
      },
      "text/plain": [
       "Generate report structure:   0%|          | 0/1 [00:00<?, ?it/s]"
      ]
     },
     "metadata": {},
     "output_type": "display_data"
    },
    {
     "data": {
      "application/vnd.jupyter.widget-view+json": {
       "model_id": "ba54fbe5f31f4d0cb24e0584cb82c1ba",
       "version_major": 2,
       "version_minor": 0
      },
      "text/plain": [
       "Render widgets:   0%|          | 0/1 [00:00<?, ?it/s]"
      ]
     },
     "metadata": {},
     "output_type": "display_data"
    },
    {
     "data": {
      "application/vnd.jupyter.widget-view+json": {
       "model_id": "d8ad92e43e744f3d8e72df7b6ee04268",
       "version_major": 2,
       "version_minor": 0
      },
      "text/plain": [
       "VBox(children=(Tab(children=(Tab(children=(GridBox(children=(VBox(children=(GridspecLayout(children=(HTML(valu…"
      ]
     },
     "metadata": {},
     "output_type": "display_data"
    }
   ],
   "source": [
    "import pandas_profiling\n",
    "\n",
    "profile = pandas_profiling.ProfileReport(df)\n",
    "profile.to_widgets()"
   ]
  },
  {
   "attachments": {},
   "cell_type": "markdown",
   "id": "6c73eee2",
   "metadata": {},
   "source": [
    "## Summary\n",
    "1. There are 20000 records 2.6% cells have missing data .\n",
    "2. There are no duplicates\n",
    "3. THe data has 6 categorical and 10 numeric columns\n",
    "2. The Columns `last_review` and `reviews_per_month` are responsible for most of the missing data (20.6%)\n",
    "3. 4/6 categorical columns have high cardinality and so may not be useful for modeling\n",
    "5. Most properties are located in Manhattan and Brooklyn\n",
    "6. `Price` has an extreme outlier\n",
    "7. 36% of properties appear to be unavailable (0 days availability)"
   ]
  },
  {
   "cell_type": "code",
   "execution_count": 4,
   "id": "b70970a1",
   "metadata": {},
   "outputs": [],
   "source": [
    "# Drop outliers\n",
    "min_price = 10\n",
    "max_price = 350\n",
    "idx = df['price'].between(min_price, max_price)\n",
    "df = df[idx].copy()\n",
    "# Convert last_review to datetime\n",
    "df['last_review'] = pd.to_datetime(df['last_review'])"
   ]
  },
  {
   "cell_type": "code",
   "execution_count": 5,
   "id": "1d829601",
   "metadata": {},
   "outputs": [
    {
     "name": "stdout",
     "output_type": "stream",
     "text": [
      "<class 'pandas.core.frame.DataFrame'>\n",
      "Int64Index: 19001 entries, 0 to 19999\n",
      "Data columns (total 16 columns):\n",
      " #   Column                          Non-Null Count  Dtype         \n",
      "---  ------                          --------------  -----         \n",
      " 0   id                              19001 non-null  int64         \n",
      " 1   name                            18994 non-null  object        \n",
      " 2   host_id                         19001 non-null  int64         \n",
      " 3   host_name                       18993 non-null  object        \n",
      " 4   neighbourhood_group             19001 non-null  object        \n",
      " 5   neighbourhood                   19001 non-null  object        \n",
      " 6   latitude                        19001 non-null  float64       \n",
      " 7   longitude                       19001 non-null  float64       \n",
      " 8   room_type                       19001 non-null  object        \n",
      " 9   price                           19001 non-null  int64         \n",
      " 10  minimum_nights                  19001 non-null  int64         \n",
      " 11  number_of_reviews               19001 non-null  int64         \n",
      " 12  last_review                     15243 non-null  datetime64[ns]\n",
      " 13  reviews_per_month               15243 non-null  float64       \n",
      " 14  calculated_host_listings_count  19001 non-null  int64         \n",
      " 15  availability_365                19001 non-null  int64         \n",
      "dtypes: datetime64[ns](1), float64(3), int64(7), object(5)\n",
      "memory usage: 2.5+ MB\n"
     ]
    }
   ],
   "source": [
    "df.info()"
   ]
  },
  {
   "cell_type": "code",
   "execution_count": 6,
   "id": "9cded96d",
   "metadata": {},
   "outputs": [
    {
     "data": {
      "text/html": [
       "Waiting for W&B process to finish... <strong style=\"color:green\">(success).</strong>"
      ],
      "text/plain": [
       "<IPython.core.display.HTML object>"
      ]
     },
     "metadata": {},
     "output_type": "display_data"
    },
    {
     "data": {
      "text/html": [
       " View run <strong style=\"color:#cdcd00\">autumn-wood-2</strong> at: <a href=\"https://wandb.ai/paulhake/nyc_airbnb2/runs/nwbrkmdd\" target=\"_blank\">https://wandb.ai/paulhake/nyc_airbnb2/runs/nwbrkmdd</a><br/>Synced 7 W&B file(s), 0 media file(s), 0 artifact file(s) and 1 other file(s)"
      ],
      "text/plain": [
       "<IPython.core.display.HTML object>"
      ]
     },
     "metadata": {},
     "output_type": "display_data"
    },
    {
     "data": {
      "text/html": [
       "Find logs at: <code>./wandb/run-20230321_213254-nwbrkmdd/logs</code>"
      ],
      "text/plain": [
       "<IPython.core.display.HTML object>"
      ]
     },
     "metadata": {},
     "output_type": "display_data"
    }
   ],
   "source": [
    "run.finish()"
   ]
  },
  {
   "cell_type": "code",
   "execution_count": null,
   "id": "d845a30a",
   "metadata": {},
   "outputs": [],
   "source": []
  }
 ],
 "metadata": {
  "kernelspec": {
   "display_name": "Python 3.10.8 ('nyc_airbnb_dev')",
   "language": "python",
   "name": "python3"
  },
  "language_info": {
   "codemirror_mode": {
    "name": "ipython",
    "version": 3
   },
   "file_extension": ".py",
   "mimetype": "text/x-python",
   "name": "python",
   "nbconvert_exporter": "python",
   "pygments_lexer": "ipython3",
   "version": "3.10.0"
  },
  "vscode": {
   "interpreter": {
    "hash": "520a3648be5b60051d040c151179e2b1ba629eb300543d4f1464e361e500db02"
   }
  }
 },
 "nbformat": 4,
 "nbformat_minor": 5
}
